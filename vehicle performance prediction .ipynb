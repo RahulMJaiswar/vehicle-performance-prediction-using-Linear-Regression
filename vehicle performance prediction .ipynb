{
 "cells": [
  {
   "cell_type": "code",
   "execution_count": 42,
   "metadata": {},
   "outputs": [],
   "source": [
    "import numpy as np"
   ]
  },
  {
   "cell_type": "code",
   "execution_count": 43,
   "metadata": {},
   "outputs": [],
   "source": [
    "import pandas as pd"
   ]
  },
  {
   "cell_type": "code",
   "execution_count": 44,
   "metadata": {},
   "outputs": [],
   "source": [
    "import matplotlib.pyplot as plt"
   ]
  },
  {
   "cell_type": "code",
   "execution_count": 45,
   "metadata": {},
   "outputs": [],
   "source": [
    "import seaborn as sns"
   ]
  },
  {
   "cell_type": "code",
   "execution_count": 46,
   "metadata": {},
   "outputs": [],
   "source": [
    "%matplotlib inline"
   ]
  },
  {
   "cell_type": "code",
   "execution_count": 47,
   "metadata": {},
   "outputs": [],
   "source": [
    "vpp = pd.read_csv(\"D:\\ML Project\\Vehicle Performance Prediction\\Dataset\\data.csv\")"
   ]
  },
  {
   "cell_type": "code",
   "execution_count": 48,
   "metadata": {},
   "outputs": [
    {
     "data": {
      "text/html": [
       "<div>\n",
       "<style scoped>\n",
       "    .dataframe tbody tr th:only-of-type {\n",
       "        vertical-align: middle;\n",
       "    }\n",
       "\n",
       "    .dataframe tbody tr th {\n",
       "        vertical-align: top;\n",
       "    }\n",
       "\n",
       "    .dataframe thead th {\n",
       "        text-align: right;\n",
       "    }\n",
       "</style>\n",
       "<table border=\"1\" class=\"dataframe\">\n",
       "  <thead>\n",
       "    <tr style=\"text-align: right;\">\n",
       "      <th></th>\n",
       "      <th>origin</th>\n",
       "      <th>cylinders</th>\n",
       "      <th>displacement</th>\n",
       "      <th>weight</th>\n",
       "      <th>acceleration</th>\n",
       "      <th>year</th>\n",
       "      <th>Kilometer_per_liter</th>\n",
       "    </tr>\n",
       "  </thead>\n",
       "  <tbody>\n",
       "    <tr>\n",
       "      <th>count</th>\n",
       "      <td>398.000000</td>\n",
       "      <td>398.000000</td>\n",
       "      <td>398.000000</td>\n",
       "      <td>398.000000</td>\n",
       "      <td>398.000000</td>\n",
       "      <td>398.000000</td>\n",
       "      <td>398.000000</td>\n",
       "    </tr>\n",
       "    <tr>\n",
       "      <th>mean</th>\n",
       "      <td>1.572864</td>\n",
       "      <td>5.454774</td>\n",
       "      <td>193.425879</td>\n",
       "      <td>2970.424623</td>\n",
       "      <td>15.568090</td>\n",
       "      <td>1976.010050</td>\n",
       "      <td>9.997073</td>\n",
       "    </tr>\n",
       "    <tr>\n",
       "      <th>std</th>\n",
       "      <td>0.802055</td>\n",
       "      <td>1.701004</td>\n",
       "      <td>104.269838</td>\n",
       "      <td>846.841774</td>\n",
       "      <td>2.757689</td>\n",
       "      <td>3.697627</td>\n",
       "      <td>3.322917</td>\n",
       "    </tr>\n",
       "    <tr>\n",
       "      <th>min</th>\n",
       "      <td>1.000000</td>\n",
       "      <td>3.000000</td>\n",
       "      <td>68.000000</td>\n",
       "      <td>1613.000000</td>\n",
       "      <td>8.000000</td>\n",
       "      <td>1970.000000</td>\n",
       "      <td>3.826293</td>\n",
       "    </tr>\n",
       "    <tr>\n",
       "      <th>25%</th>\n",
       "      <td>1.000000</td>\n",
       "      <td>4.000000</td>\n",
       "      <td>104.250000</td>\n",
       "      <td>2223.750000</td>\n",
       "      <td>13.825000</td>\n",
       "      <td>1973.000000</td>\n",
       "      <td>7.440015</td>\n",
       "    </tr>\n",
       "    <tr>\n",
       "      <th>50%</th>\n",
       "      <td>1.000000</td>\n",
       "      <td>4.000000</td>\n",
       "      <td>148.500000</td>\n",
       "      <td>2803.500000</td>\n",
       "      <td>15.500000</td>\n",
       "      <td>1976.000000</td>\n",
       "      <td>9.778305</td>\n",
       "    </tr>\n",
       "    <tr>\n",
       "      <th>75%</th>\n",
       "      <td>2.000000</td>\n",
       "      <td>8.000000</td>\n",
       "      <td>262.000000</td>\n",
       "      <td>3608.000000</td>\n",
       "      <td>17.175000</td>\n",
       "      <td>1979.000000</td>\n",
       "      <td>12.329168</td>\n",
       "    </tr>\n",
       "    <tr>\n",
       "      <th>max</th>\n",
       "      <td>3.000000</td>\n",
       "      <td>8.000000</td>\n",
       "      <td>455.000000</td>\n",
       "      <td>5140.000000</td>\n",
       "      <td>24.800000</td>\n",
       "      <td>1982.000000</td>\n",
       "      <td>19.811697</td>\n",
       "    </tr>\n",
       "  </tbody>\n",
       "</table>\n",
       "</div>"
      ],
      "text/plain": [
       "           origin   cylinders  displacement       weight  acceleration  \\\n",
       "count  398.000000  398.000000    398.000000   398.000000    398.000000   \n",
       "mean     1.572864    5.454774    193.425879  2970.424623     15.568090   \n",
       "std      0.802055    1.701004    104.269838   846.841774      2.757689   \n",
       "min      1.000000    3.000000     68.000000  1613.000000      8.000000   \n",
       "25%      1.000000    4.000000    104.250000  2223.750000     13.825000   \n",
       "50%      1.000000    4.000000    148.500000  2803.500000     15.500000   \n",
       "75%      2.000000    8.000000    262.000000  3608.000000     17.175000   \n",
       "max      3.000000    8.000000    455.000000  5140.000000     24.800000   \n",
       "\n",
       "              year  Kilometer_per_liter  \n",
       "count   398.000000           398.000000  \n",
       "mean   1976.010050             9.997073  \n",
       "std       3.697627             3.322917  \n",
       "min    1970.000000             3.826293  \n",
       "25%    1973.000000             7.440015  \n",
       "50%    1976.000000             9.778305  \n",
       "75%    1979.000000            12.329168  \n",
       "max    1982.000000            19.811697  "
      ]
     },
     "execution_count": 48,
     "metadata": {},
     "output_type": "execute_result"
    }
   ],
   "source": [
    "vpp.describe()"
   ]
  },
  {
   "cell_type": "code",
   "execution_count": 49,
   "metadata": {},
   "outputs": [
    {
     "data": {
      "text/html": [
       "<div>\n",
       "<style scoped>\n",
       "    .dataframe tbody tr th:only-of-type {\n",
       "        vertical-align: middle;\n",
       "    }\n",
       "\n",
       "    .dataframe tbody tr th {\n",
       "        vertical-align: top;\n",
       "    }\n",
       "\n",
       "    .dataframe thead th {\n",
       "        text-align: right;\n",
       "    }\n",
       "</style>\n",
       "<table border=\"1\" class=\"dataframe\">\n",
       "  <thead>\n",
       "    <tr style=\"text-align: right;\">\n",
       "      <th></th>\n",
       "      <th>origin</th>\n",
       "      <th>cylinders</th>\n",
       "      <th>displacement</th>\n",
       "      <th>horsepower</th>\n",
       "      <th>weight</th>\n",
       "      <th>acceleration</th>\n",
       "      <th>year</th>\n",
       "      <th>name</th>\n",
       "      <th>Kilometer_per_liter</th>\n",
       "    </tr>\n",
       "  </thead>\n",
       "  <tbody>\n",
       "    <tr>\n",
       "      <th>0</th>\n",
       "      <td>1</td>\n",
       "      <td>8</td>\n",
       "      <td>307.0</td>\n",
       "      <td>130</td>\n",
       "      <td>3504</td>\n",
       "      <td>12.0</td>\n",
       "      <td>1970</td>\n",
       "      <td>chevrolet chevelle malibu</td>\n",
       "      <td>7.652587</td>\n",
       "    </tr>\n",
       "    <tr>\n",
       "      <th>1</th>\n",
       "      <td>1</td>\n",
       "      <td>8</td>\n",
       "      <td>350.0</td>\n",
       "      <td>165</td>\n",
       "      <td>3693</td>\n",
       "      <td>11.5</td>\n",
       "      <td>1970</td>\n",
       "      <td>buick skylark 320</td>\n",
       "      <td>6.377156</td>\n",
       "    </tr>\n",
       "    <tr>\n",
       "      <th>2</th>\n",
       "      <td>1</td>\n",
       "      <td>8</td>\n",
       "      <td>318.0</td>\n",
       "      <td>150</td>\n",
       "      <td>3436</td>\n",
       "      <td>11.0</td>\n",
       "      <td>1970</td>\n",
       "      <td>plymouth satellite</td>\n",
       "      <td>7.652587</td>\n",
       "    </tr>\n",
       "    <tr>\n",
       "      <th>3</th>\n",
       "      <td>1</td>\n",
       "      <td>8</td>\n",
       "      <td>304.0</td>\n",
       "      <td>150</td>\n",
       "      <td>3433</td>\n",
       "      <td>12.0</td>\n",
       "      <td>1970</td>\n",
       "      <td>amc rebel sst</td>\n",
       "      <td>6.802299</td>\n",
       "    </tr>\n",
       "    <tr>\n",
       "      <th>4</th>\n",
       "      <td>1</td>\n",
       "      <td>8</td>\n",
       "      <td>302.0</td>\n",
       "      <td>140</td>\n",
       "      <td>3449</td>\n",
       "      <td>10.5</td>\n",
       "      <td>1970</td>\n",
       "      <td>ford torino</td>\n",
       "      <td>7.227443</td>\n",
       "    </tr>\n",
       "  </tbody>\n",
       "</table>\n",
       "</div>"
      ],
      "text/plain": [
       "   origin  cylinders  displacement horsepower  weight  acceleration  year  \\\n",
       "0       1          8         307.0        130    3504          12.0  1970   \n",
       "1       1          8         350.0        165    3693          11.5  1970   \n",
       "2       1          8         318.0        150    3436          11.0  1970   \n",
       "3       1          8         304.0        150    3433          12.0  1970   \n",
       "4       1          8         302.0        140    3449          10.5  1970   \n",
       "\n",
       "                        name  Kilometer_per_liter  \n",
       "0  chevrolet chevelle malibu             7.652587  \n",
       "1          buick skylark 320             6.377156  \n",
       "2         plymouth satellite             7.652587  \n",
       "3              amc rebel sst             6.802299  \n",
       "4                ford torino             7.227443  "
      ]
     },
     "execution_count": 49,
     "metadata": {},
     "output_type": "execute_result"
    }
   ],
   "source": [
    "vpp.head()"
   ]
  },
  {
   "cell_type": "code",
   "execution_count": 50,
   "metadata": {},
   "outputs": [
    {
     "name": "stdout",
     "output_type": "stream",
     "text": [
      "<class 'pandas.core.frame.DataFrame'>\n",
      "RangeIndex: 398 entries, 0 to 397\n",
      "Data columns (total 9 columns):\n",
      " #   Column               Non-Null Count  Dtype  \n",
      "---  ------               --------------  -----  \n",
      " 0   origin               398 non-null    int64  \n",
      " 1   cylinders            398 non-null    int64  \n",
      " 2   displacement         398 non-null    float64\n",
      " 3   horsepower           398 non-null    object \n",
      " 4   weight               398 non-null    int64  \n",
      " 5   acceleration         398 non-null    float64\n",
      " 6   year                 398 non-null    int64  \n",
      " 7   name                 398 non-null    object \n",
      " 8   Kilometer_per_liter  398 non-null    float64\n",
      "dtypes: float64(3), int64(4), object(2)\n",
      "memory usage: 28.1+ KB\n"
     ]
    }
   ],
   "source": [
    "vpp.info()"
   ]
  },
  {
   "cell_type": "code",
   "execution_count": 51,
   "metadata": {},
   "outputs": [
    {
     "data": {
      "text/plain": [
       "origin                 False\n",
       "cylinders              False\n",
       "displacement           False\n",
       "horsepower             False\n",
       "weight                 False\n",
       "acceleration           False\n",
       "year                   False\n",
       "name                   False\n",
       "Kilometer_per_liter    False\n",
       "dtype: bool"
      ]
     },
     "execution_count": 51,
     "metadata": {},
     "output_type": "execute_result"
    }
   ],
   "source": [
    "vpp.isnull().any()"
   ]
  },
  {
   "cell_type": "code",
   "execution_count": 52,
   "metadata": {},
   "outputs": [
    {
     "data": {
      "text/plain": [
       "origin                 0\n",
       "cylinders              0\n",
       "displacement           0\n",
       "horsepower             0\n",
       "weight                 0\n",
       "acceleration           0\n",
       "year                   0\n",
       "name                   0\n",
       "Kilometer_per_liter    0\n",
       "dtype: int64"
      ]
     },
     "execution_count": 52,
     "metadata": {},
     "output_type": "execute_result"
    }
   ],
   "source": [
    "vpp.isnull().sum()"
   ]
  },
  {
   "cell_type": "code",
   "execution_count": 53,
   "metadata": {},
   "outputs": [],
   "source": [
    "x =vpp.iloc[:,4].values\n",
    "y = vpp.iloc[:,8].values"
   ]
  },
  {
   "cell_type": "code",
   "execution_count": 54,
   "metadata": {},
   "outputs": [
    {
     "data": {
      "text/plain": [
       "array([3504, 3693, 3436, 3433, 3449, 4341, 4354, 4312, 4425, 3850, 3563,\n",
       "       3609, 3761, 3086, 2372, 2833, 2774, 2587, 2130, 1835, 2672, 2430,\n",
       "       2375, 2234, 2648, 4615, 4376, 4382, 4732, 2130, 2264, 2228, 2046,\n",
       "       2634, 3439, 3329, 3302, 3288, 4209, 4464, 4154, 4096, 4955, 4746,\n",
       "       5140, 2962, 2408, 3282, 3139, 2220, 2123, 2074, 2065, 1773, 1613,\n",
       "       1834, 1955, 2278, 2126, 2254, 2408, 2226, 4274, 4385, 4135, 4129,\n",
       "       3672, 4633, 4502, 4456, 4422, 2330, 3892, 4098, 4294, 4077, 2933,\n",
       "       2511, 2979, 2189, 2395, 2288, 2506, 2164, 2100, 4100, 3672, 3988,\n",
       "       4042, 3777, 4952, 4464, 4363, 4237, 4735, 4951, 3821, 3121, 3278,\n",
       "       2945, 3021, 2904, 1950, 4997, 4906, 4654, 4499, 2789, 2279, 2401,\n",
       "       2379, 2124, 2310, 2472, 2265, 4082, 4278, 1867, 2158, 2582, 2868,\n",
       "       3399, 2660, 2807, 3664, 3102, 2875, 2901, 3336, 1950, 2451, 1836,\n",
       "       2542, 3781, 3632, 3613, 4141, 4699, 4457, 4638, 4257, 2219, 1963,\n",
       "       2300, 1649, 2003, 2125, 2108, 2246, 2489, 2391, 2000, 3264, 3459,\n",
       "       3432, 3158, 4668, 4440, 4498, 4657, 3907, 3897, 3730, 3785, 3039,\n",
       "       3221, 3169, 2171, 2639, 2914, 2592, 2702, 2223, 2545, 2984, 1937,\n",
       "       3211, 2694, 2957, 2945, 2671, 1795, 2464, 2220, 2572, 2255, 2202,\n",
       "       4215, 4190, 3962, 4215, 3233, 3353, 3012, 3085, 2035, 2164, 1937,\n",
       "       1795, 3651, 3574, 3645, 3193, 1825, 1990, 2155, 2565, 3150, 3940,\n",
       "       3270, 2930, 3820, 4380, 4055, 3870, 3755, 2045, 2155, 1825, 2300,\n",
       "       1945, 3880, 4060, 4140, 4295, 3520, 3425, 3630, 3525, 4220, 4165,\n",
       "       4325, 4335, 1940, 2740, 2265, 2755, 2051, 2075, 1985, 2190, 2815,\n",
       "       2600, 2720, 1985, 1800, 1985, 2070, 1800, 3365, 3735, 3570, 3535,\n",
       "       3155, 2965, 2720, 3430, 3210, 3380, 3070, 3620, 3410, 3425, 3445,\n",
       "       3205, 4080, 2155, 2560, 2300, 2230, 2515, 2745, 2855, 2405, 2830,\n",
       "       3140, 2795, 3410, 1990, 2135, 3245, 2990, 2890, 3265, 3360, 3840,\n",
       "       3725, 3955, 3830, 4360, 4054, 3605, 3940, 1925, 1975, 1915, 2670,\n",
       "       3530, 3900, 3190, 3420, 2200, 2150, 2020, 2130, 2670, 2595, 2700,\n",
       "       2556, 2144, 1968, 2120, 2019, 2678, 2870, 3003, 3381, 2188, 2711,\n",
       "       2542, 2434, 2265, 2110, 2800, 2110, 2085, 2335, 2950, 3250, 1850,\n",
       "       1835, 2145, 1845, 2910, 2420, 2500, 2905, 2290, 2490, 2635, 2620,\n",
       "       2725, 2385, 1755, 1875, 1760, 2065, 1975, 2050, 1985, 2215, 2045,\n",
       "       2380, 2190, 2320, 2210, 2350, 2615, 2635, 3230, 3160, 2900, 2930,\n",
       "       3415, 3725, 3060, 3465, 2605, 2640, 2395, 2575, 2525, 2735, 2865,\n",
       "       3035, 1980, 2025, 1970, 2125, 2125, 2160, 2205, 2245, 1965, 1965,\n",
       "       1995, 2945, 3015, 2585, 2835, 2665, 2370, 2950, 2790, 2130, 2295,\n",
       "       2625, 2720], dtype=int64)"
      ]
     },
     "execution_count": 54,
     "metadata": {},
     "output_type": "execute_result"
    }
   ],
   "source": [
    "x"
   ]
  },
  {
   "cell_type": "code",
   "execution_count": 55,
   "metadata": {},
   "outputs": [
    {
     "data": {
      "text/plain": [
       "array([ 7.65258673,  6.37715561,  7.65258673,  6.80229932,  7.22744303,\n",
       "        6.37715561,  5.9520119 ,  5.9520119 ,  5.9520119 ,  6.37715561,\n",
       "        6.37715561,  5.9520119 ,  6.37715561,  5.9520119 , 10.20344898,\n",
       "        9.35316156,  7.65258673,  8.92801786, 11.4788801 , 11.05373639,\n",
       "       10.62859269, 10.20344898, 10.62859269, 11.05373639,  8.92801786,\n",
       "        4.25143707,  4.25143707,  4.67658078,  3.82629337, 11.4788801 ,\n",
       "       11.90402381, 10.62859269, 10.62859269,  8.07773044,  6.80229932,\n",
       "        7.22744303,  8.07773044,  7.65258673,  5.9520119 ,  5.9520119 ,\n",
       "        5.9520119 ,  5.9520119 ,  5.10172449,  5.5268682 ,  5.5268682 ,\n",
       "        7.65258673,  9.35316156,  8.07773044,  7.65258673,  9.77830527,\n",
       "       11.90402381, 12.75431122, 12.75431122, 13.17945493, 14.88002976,\n",
       "       11.4788801 , 11.05373639, 10.20344898, 10.62859269,  9.77830527,\n",
       "        8.50287415,  8.92801786,  5.5268682 ,  5.9520119 ,  6.37715561,\n",
       "        5.9520119 ,  7.22744303,  4.67658078,  5.5268682 ,  5.10172449,\n",
       "        5.5268682 ,  8.07773044,  6.37715561,  5.5268682 ,  5.5268682 ,\n",
       "        5.9520119 ,  7.65258673,  9.35316156,  8.92801786, 11.05373639,\n",
       "        9.35316156, 11.90402381,  9.77830527, 11.90402381, 11.4788801 ,\n",
       "        5.5268682 ,  5.9520119 ,  5.5268682 ,  5.9520119 ,  6.37715561,\n",
       "        5.10172449,  5.5268682 ,  5.5268682 ,  5.9520119 ,  5.5268682 ,\n",
       "        5.10172449,  5.5268682 ,  7.65258673,  6.80229932,  7.65258673,\n",
       "        7.65258673,  9.77830527, 11.05373639,  4.67658078,  5.10172449,\n",
       "        5.5268682 ,  5.10172449,  7.65258673,  8.50287415,  8.92801786,\n",
       "        9.35316156,  7.65258673,  8.07773044,  8.92801786, 11.05373639,\n",
       "        6.37715561,  6.80229932, 12.32916752, 10.20344898,  8.50287415,\n",
       "        8.07773044,  6.37715561, 10.20344898,  8.50287415,  4.67658078,\n",
       "        8.50287415,  8.92801786,  8.07773044,  6.37715561, 13.17945493,\n",
       "       11.05373639, 13.60459864, 10.62859269,  6.80229932,  6.80229932,\n",
       "        7.65258673,  6.80229932,  5.5268682 ,  5.9520119 ,  5.9520119 ,\n",
       "        5.9520119 , 12.32916752, 11.05373639, 11.05373639, 13.17945493,\n",
       "       13.60459864, 11.90402381, 10.20344898, 11.05373639, 10.20344898,\n",
       "       11.05373639, 13.17945493,  8.07773044,  7.65258673,  6.37715561,\n",
       "        6.37715561,  6.80229932,  6.37715561,  6.80229932,  5.9520119 ,\n",
       "        7.22744303,  6.80229932,  6.37715561,  7.65258673,  8.92801786,\n",
       "        8.50287415,  5.5268682 , 12.32916752,  9.77830527,  8.50287415,\n",
       "        9.77830527, 10.20344898, 10.62859269, 10.20344898,  7.65258673,\n",
       "       12.32916752,  8.07773044,  9.77830527,  9.77830527,  9.35316156,\n",
       "       10.62859269, 14.02974235, 11.90402381, 10.62859269, 10.62859269,\n",
       "       11.05373639, 11.4788801 ,  7.44001488,  6.80229932,  6.58972747,\n",
       "        6.16458376,  9.35316156,  9.35316156, 10.20344898,  9.56573342,\n",
       "       12.32916752, 10.41602083, 12.32916752, 14.02974235,  8.50287415,\n",
       "        7.65258673,  7.86515859,  7.44001488, 12.54173937, 13.60459864,\n",
       "       11.90402381, 11.26630825,  8.50287415,  5.5268682 ,  8.07773044,\n",
       "        8.07773044,  7.01487117,  7.01487117,  5.5268682 ,  5.5268682 ,\n",
       "        5.5268682 , 13.39202678, 12.75431122, 15.30517347, 10.84116454,\n",
       "       14.2423142 ,  7.44001488,  7.22744303,  6.58972747,  6.37715561,\n",
       "        7.44001488,  8.715446  ,  8.07773044,  7.86515859,  6.80229932,\n",
       "        6.58972747,  6.58972747,  6.80229932, 12.32916752, 10.41602083,\n",
       "       11.05373639, 10.84116454, 12.96688308, 14.2423142 , 12.75431122,\n",
       "       12.96688308,  9.35316156,  9.14058971,  9.14058971, 18.32369379,\n",
       "       15.34768784, 13.9447136 , 16.75066207, 15.34768784,  8.46035978,\n",
       "        8.24778792,  8.58790289,  8.16275918,  8.715446  ,  8.58790289,\n",
       "       10.67110706,  8.715446  ,  8.24778792,  8.75796037,  8.84298911,\n",
       "        7.90767296,  7.6951011 ,  8.16275918,  7.52504362,  7.6951011 ,\n",
       "        7.44001488, 12.75431122, 11.69145195, 11.56390884, 13.13694056,\n",
       "        8.97053223,  9.86333401, 10.11842024, 10.16093461,  8.63041726,\n",
       "        7.22744303,  9.18310408,  6.88732806, 13.39202678, 12.54173937,\n",
       "        9.14058971,  8.41784541,  9.48070468,  8.58790289,  8.75796037,\n",
       "        7.22744303,  7.48252925,  7.01487117,  7.73761548,  7.18492866,\n",
       "        6.58972747,  8.16275918,  7.86515859, 13.56208427, 14.49740042,\n",
       "       15.17763036, 11.64893758, 10.79865017,  9.77830527, 11.56390884,\n",
       "       10.16093461, 14.53991479, 14.66745791, 13.5195699 , 15.85786029,\n",
       "       12.07408129, 12.24413877, 11.39385136, 14.2423142 , 17.64346386,\n",
       "       16.19797525, 13.64711301, 15.81534592, 11.90402381, 11.22379388,\n",
       "       10.33099209,  8.12024481, 14.58242916, 12.66928248, 13.30699804,\n",
       "       15.73031717, 13.68962738, 19.81169677, 11.86150944, 17.34586326,\n",
       "       18.83386624, 18.4512369 , 15.47523095, 12.75431122, 18.96140935,\n",
       "       17.38837763, 14.36985731, 12.66928248, 13.90219923, 10.07590587,\n",
       "       14.88002976, 10.0333915 , 13.77465612, 11.56390884, 11.30882262,\n",
       "       10.96870765,  9.99087713, 12.75431122, 16.62311896, 16.58060459,\n",
       "       14.92254413, 13.73214175, 15.73031717, 16.02791777, 14.49740042,\n",
       "       14.75248665, 14.62494354, 12.71179685, 14.02974235, 14.66745791,\n",
       "       14.32734294, 13.77465612, 13.98722797, 13.43454115, 11.94653818,\n",
       "       13.05191182, 10.79865017, 10.28847772,  9.52321905, 11.30882262,\n",
       "        8.58790289,  7.48252925, 11.90402381, 11.4788801 , 14.45488605,\n",
       "       13.17945493, 12.32916752, 11.4788801 , 10.20344898,  9.77830527,\n",
       "       15.30517347, 15.73031717, 13.17945493, 16.15546088, 15.30517347,\n",
       "       15.30517347, 15.30517347, 14.45488605, 16.15546088, 13.60459864,\n",
       "       16.15546088, 10.62859269, 16.15546088, 11.05373639,  9.35316156,\n",
       "       13.60459864, 15.30517347, 11.4788801 , 11.4788801 , 18.70632313,\n",
       "       13.60459864, 11.90402381, 13.17945493])"
      ]
     },
     "execution_count": 55,
     "metadata": {},
     "output_type": "execute_result"
    }
   ],
   "source": [
    "y"
   ]
  },
  {
   "cell_type": "code",
   "execution_count": 56,
   "metadata": {},
   "outputs": [
    {
     "data": {
      "text/plain": [
       "<matplotlib.axes._subplots.AxesSubplot at 0x1a830296d08>"
      ]
     },
     "execution_count": 56,
     "metadata": {},
     "output_type": "execute_result"
    },
    {
     "data": {
      "image/png": "[encoded data removed]",
      "text/plain": [
       "<Figure size 432x288 with 1 Axes>"
      ]
     },
     "metadata": {
      "needs_background": "light"
     },
     "output_type": "display_data"
    }
   ],
   "source": [
    "sns.distplot(vpp['Kilometer_per_liter'],kde =False,bins = 10)"
   ]
  },
  {
   "cell_type": "code",
   "execution_count": 57,
   "metadata": {},
   "outputs": [
    {
     "data": {
      "text/plain": [
       "<Figure size 3600x2160 with 0 Axes>"
      ]
     },
     "metadata": {},
     "output_type": "display_data"
    },
    {
     "data": {
      "image/png": "[encoded data removed]",
      "text/plain": [
       "<Figure size 432x288 with 1 Axes>"
      ]
     },
     "metadata": {
      "needs_background": "light"
     },
     "output_type": "display_data"
    }
   ],
   "source": [
    "\n",
    "plt.figure(figsize=(50,30))\n",
    "vpp.plot(y='Kilometer_per_liter',x='weight',kind ='scatter')\n",
    "plt.xlabel('Kilometer_per_liter',fontsize=20)\n",
    "plt.ylabel('weight',fontsize = 20)\n",
    "plt.xticks(fontsize =10)\n",
    "plt.yticks(fontsize =10)\n",
    "plt.show()"
   ]
  },
  {
   "cell_type": "code",
   "execution_count": 58,
   "metadata": {},
   "outputs": [
    {
     "data": {
      "image/png": "[encoded data removed]",
      "text/plain": [
       "<Figure size 432x288 with 2 Axes>"
      ]
     },
     "metadata": {
      "needs_background": "light"
     },
     "output_type": "display_data"
    },
    {
     "data": {
      "text/plain": [
       "<Figure size 2160x1800 with 0 Axes>"
      ]
     },
     "execution_count": 58,
     "metadata": {},
     "output_type": "execute_result"
    },
    {
     "data": {
      "text/plain": [
       "<Figure size 2160x1800 with 0 Axes>"
      ]
     },
     "metadata": {},
     "output_type": "display_data"
    }
   ],
   "source": [
    "sns.heatmap(vpp.corr())\n",
    "plt.show()\n",
    "plt.figure(figsize=(30,25))"
   ]
  },
  {
   "cell_type": "code",
   "execution_count": 59,
   "metadata": {},
   "outputs": [],
   "source": [
    "x1 = np.reshape(x,(-1,1))"
   ]
  },
  {
   "cell_type": "code",
   "execution_count": 60,
   "metadata": {},
   "outputs": [
    {
     "data": {
      "text/plain": [
       "2"
      ]
     },
     "execution_count": 60,
     "metadata": {},
     "output_type": "execute_result"
    }
   ],
   "source": [
    "x1.ndim"
   ]
  },
  {
   "cell_type": "code",
   "execution_count": 61,
   "metadata": {},
   "outputs": [],
   "source": [
    "y1 = np.reshape(y,(-1,1))"
   ]
  },
  {
   "cell_type": "code",
   "execution_count": 62,
   "metadata": {},
   "outputs": [
    {
     "data": {
      "text/plain": [
       "2"
      ]
     },
     "execution_count": 62,
     "metadata": {},
     "output_type": "execute_result"
    }
   ],
   "source": [
    "y1.ndim"
   ]
  },
  {
   "cell_type": "markdown",
   "metadata": {},
   "source": [
    "Split the Dataset into the Training set and Test set"
   ]
  },
  {
   "cell_type": "code",
   "execution_count": 63,
   "metadata": {},
   "outputs": [],
   "source": [
    "from sklearn.model_selection import train_test_split\n",
    "x1_train,x1_test,y1_train,y1_test = train_test_split(x1,y1,test_size =0.2,random_state =100)"
   ]
  },
  {
   "cell_type": "markdown",
   "metadata": {},
   "source": [
    "Fitting Simple Linear Regression to the Training set"
   ]
  },
  {
   "cell_type": "code",
   "execution_count": 64,
   "metadata": {},
   "outputs": [
    {
     "data": {
      "text/plain": [
       "LinearRegression(copy_X=True, fit_intercept=True, n_jobs=None, normalize=False)"
      ]
     },
     "execution_count": 64,
     "metadata": {},
     "output_type": "execute_result"
    }
   ],
   "source": [
    "from sklearn.linear_model import LinearRegression\n",
    "lr = LinearRegression()\n",
    "lr.fit(x1_train,y1_train)"
   ]
  },
  {
   "cell_type": "markdown",
   "metadata": {},
   "source": [
    "Predicting the Test Set Result"
   ]
  },
  {
   "cell_type": "code",
   "execution_count": 65,
   "metadata": {},
   "outputs": [
    {
     "data": {
      "text/plain": [
       "array([[12.0727463 ],\n",
       "       [14.42118998],\n",
       "       [ 9.97801261],\n",
       "       [10.18943759],\n",
       "       [11.08067522],\n",
       "       [ 9.03147921],\n",
       "       [ 9.51613033],\n",
       "       [10.75540601],\n",
       "       [ 6.47811594],\n",
       "       [10.23497528],\n",
       "       [ 9.96174915],\n",
       "       [11.92637516],\n",
       "       [ 9.15182882],\n",
       "       [12.65823087],\n",
       "       [13.30876929],\n",
       "       [ 7.79220353],\n",
       "       [ 6.85217552],\n",
       "       [10.07234068],\n",
       "       [11.89059555],\n",
       "       [10.23172259],\n",
       "       [13.32503275],\n",
       "       [10.82045985],\n",
       "       [12.30043475],\n",
       "       [ 9.94223299],\n",
       "       [ 7.17744473],\n",
       "       [ 5.03717335],\n",
       "       [10.51145411],\n",
       "       [ 6.40655671],\n",
       "       [11.35390135],\n",
       "       [ 5.64217407],\n",
       "       [12.95097316],\n",
       "       [12.73954818],\n",
       "       [ 6.98228321],\n",
       "       [11.92962785],\n",
       "       [11.38968097],\n",
       "       [ 9.22664074],\n",
       "       [ 5.94142174],\n",
       "       [11.19451944],\n",
       "       [ 5.59988908],\n",
       "       [ 7.23924588],\n",
       "       [ 4.2760434 ],\n",
       "       [ 4.23050571],\n",
       "       [ 7.36935356],\n",
       "       [12.9347097 ],\n",
       "       [ 6.99204128],\n",
       "       [11.10019137],\n",
       "       [ 6.19838442],\n",
       "       [ 7.65559047],\n",
       "       [ 8.4622581 ],\n",
       "       [12.02395592],\n",
       "       [10.95707292],\n",
       "       [11.76374055],\n",
       "       [13.22745199],\n",
       "       [ 9.05099537],\n",
       "       [ 7.89303699],\n",
       "       [ 8.61188194],\n",
       "       [10.2675022 ],\n",
       "       [ 9.79586185],\n",
       "       [ 3.41408   ],\n",
       "       [12.75581164],\n",
       "       [13.19492507],\n",
       "       [ 9.68201763],\n",
       "       [11.30185828],\n",
       "       [ 9.00545768],\n",
       "       [12.6907578 ],\n",
       "       [ 7.3563428 ],\n",
       "       [ 8.5435754 ],\n",
       "       [ 7.85400468],\n",
       "       [12.30043475],\n",
       "       [ 6.21790057],\n",
       "       [11.39943904],\n",
       "       [ 5.547846  ],\n",
       "       [12.99976354],\n",
       "       [ 7.74991854],\n",
       "       [13.36731775],\n",
       "       [12.65823087],\n",
       "       [ 5.17378641],\n",
       "       [13.21118853],\n",
       "       [11.83529978],\n",
       "       [12.76231702]])"
      ]
     },
     "execution_count": 65,
     "metadata": {},
     "output_type": "execute_result"
    }
   ],
   "source": [
    "y1_pred = lr.predict(x1_test)\n",
    "y1_pred"
   ]
  },
  {
   "cell_type": "markdown",
   "metadata": {},
   "source": [
    "Visualising the Train set Results"
   ]
  },
  {
   "cell_type": "code",
   "execution_count": 66,
   "metadata": {},
   "outputs": [
    {
     "data": {
      "image/png": "[encoded data removed]",
      "text/plain": [
       "<Figure size 432x288 with 1 Axes>"
      ]
     },
     "metadata": {
      "needs_background": "light"
     },
     "output_type": "display_data"
    }
   ],
   "source": [
    "plt.scatter(x1_train,y1_train,color = 'blue')\n",
    "plt.plot(x1_train,lr.predict(x1_train),color = 'red')\n",
    "plt.title('Kilometer per liter Vs weight(Train Set)')\n",
    "plt.xlabel('weight')\n",
    "plt.ylabel('Kilometer per liter')\n",
    "plt.show()\n"
   ]
  },
  {
   "cell_type": "markdown",
   "metadata": {},
   "source": [
    "Visualising the Test set Results"
   ]
  },
  {
   "cell_type": "code",
   "execution_count": 67,
   "metadata": {},
   "outputs": [
    {
     "data": {
      "image/png": "[encoded data removed]",
      "text/plain": [
       "<Figure size 432x288 with 1 Axes>"
      ]
     },
     "metadata": {
      "needs_background": "light"
     },
     "output_type": "display_data"
    }
   ],
   "source": [
    "plt.scatter(x1_test,y1_test,color = 'blue')\n",
    "plt.plot(x1_train,lr.predict(x1_train),color = 'red')\n",
    "plt.title('Kilometer per liter Vs weight(Train Set)')\n",
    "plt.xlabel('weight')\n",
    "plt.ylabel('Kilometer per liter')\n",
    "plt.show()"
   ]
  },
  {
   "cell_type": "markdown",
   "metadata": {},
   "source": [
    "Finding the Residual"
   ]
  },
  {
   "cell_type": "code",
   "execution_count": 71,
   "metadata": {},
   "outputs": [
    {
     "name": "stdout",
     "output_type": "stream",
     "text": [
      "MAE: 1.2638683678782523\n",
      "MSE: 2.656300090929798\n",
      "RMSE: 1.1242190035212234\n",
      "r_squared: 0.7373187848436484\n"
     ]
    }
   ],
   "source": [
    "from sklearn import metrics\n",
    "print('MAE:',metrics.mean_absolute_error(y1_test,y1_pred))\n",
    "print('MSE:',metrics.mean_squared_error(y1_test,y1_pred))\n",
    "print('RMSE:',np.sqrt(metrics.mean_absolute_error(y1_test,y1_pred)))\n",
    "print('r_squared:', r2_score(y1_test, y1_pred))"
   ]
  },
  {
   "cell_type": "code",
   "execution_count": 70,
   "metadata": {},
   "outputs": [
    {
     "data": {
      "image/png": "[encoded data removed]",
      "text/plain": [
       "<Figure size 432x288 with 1 Axes>"
      ]
     },
     "metadata": {
      "needs_background": "light"
     },
     "output_type": "display_data"
    }
   ],
   "source": [
    "plt.scatter(y1_test,y1_pred,c='blue')\n",
    "plt.xlabel('y1 test')\n",
    "plt.ylabel('y1_pred')\n",
    "plt.grid()"
   ]
  },
  {
   "cell_type": "code",
   "execution_count": null,
   "metadata": {},
   "outputs": [],
   "source": []
  }
 ],
 "metadata": {
  "kernelspec": {
   "display_name": "Python 3",
   "language": "python",
   "name": "python3"
  },
  "language_info": {
   "codemirror_mode": {
    "name": "ipython",
    "version": 3
   },
   "file_extension": ".py",
   "mimetype": "text/x-python",
   "name": "python",
   "nbconvert_exporter": "python",
   "pygments_lexer": "ipython3",
   "version": "3.7.6"
  }
 },
 "nbformat": 4,
 "nbformat_minor": 4
}
